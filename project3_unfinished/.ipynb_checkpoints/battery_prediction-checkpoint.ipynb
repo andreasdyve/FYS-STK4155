{
 "cells": [
  {
   "cell_type": "markdown",
   "metadata": {},
   "source": [
    "### Table of Contents\n",
    "\n",
    "* [Imported libraries](#imports)\n",
    "* [Functions used](#functions)\n",
    "* [Data Structuring](#data_structuring)\n",
    "* [Data displaying](#data_displaying)\n",
    "* [Univariate models](#univariate)\n",
    "* [Multivariate models](#multivariate)"
   ]
  },
  {
   "cell_type": "markdown",
   "metadata": {},
   "source": [
    "### Imported libraries <a class=\"anchor\" id=\"imports\"></a>"
   ]
  },
  {
   "cell_type": "code",
   "execution_count": 24,
   "metadata": {},
   "outputs": [],
   "source": [
    "import numpy as np\n",
    "import matplotlib.pyplot as plt\n",
    "import pandas as pd\n",
    "import os\n",
    "import glob"
   ]
  },
  {
   "cell_type": "markdown",
   "metadata": {},
   "source": [
    "### Data Structuring <a class=\"anchor\" id=\"data_structuring\"></a>\n",
    "\n",
    "Data structuring code from \n",
    "https://github.com/petermattia/revisit-severson-et-al/blob/main/revisit-severson-et-al.ipynb"
   ]
  },
  {
   "cell_type": "code",
   "execution_count": 25,
   "metadata": {},
   "outputs": [],
   "source": [
    "def sortKeyFunc(s):\n",
    "    return int(os.path.basename(s)[4:-4])\n",
    "\n",
    "def load_dataset(folder):\n",
    "    files = glob.glob(f'./data/{folder}/*.csv')\n",
    "    files.sort(key=sortKeyFunc) # glob returns list with arbitrary order\n",
    "    \n",
    "    l = len(files)\n",
    "    dataset = np.zeros((l, 1000, 99))\n",
    "    \n",
    "    for k, file in enumerate(files):\n",
    "        cell = np.genfromtxt(file, delimiter=',')\n",
    "        dataset[k,:,:] = cell # flip voltage dimension\n",
    "    \n",
    "    return dataset"
   ]
  },
  {
   "cell_type": "code",
   "execution_count": 33,
   "metadata": {},
   "outputs": [],
   "source": [
    "data_train = load_dataset('train')\n",
    "data_test1 = load_dataset('test1')\n",
    "data_test2 = load_dataset('test2')\n",
    "\n",
    "# Remove one outlier battery from data\n",
    "data_test1 = np.delete(data_test1, 21, axis=0)"
   ]
  },
  {
   "cell_type": "code",
   "execution_count": 72,
   "metadata": {},
   "outputs": [],
   "source": [
    "cycle_lives_train = np.genfromtxt('./data/cycle_lives/train_cycle_lives.csv', delimiter=',')\n",
    "cycle_lives_test1 = np.genfromtxt('./data/cycle_lives/test1_cycle_lives.csv', delimiter=',')\n",
    "cycle_lives_test2 = np.genfromtxt('./data/cycle_lives/test2_cycle_lives.csv', delimiter=',')\n",
    "\n",
    "# Remove one outlier battery from data\n",
    "cycle_lives_test1 = np.delete(cycle_lives_test1, 21)"
   ]
  },
  {
   "cell_type": "code",
   "execution_count": 35,
   "metadata": {},
   "outputs": [
    {
     "name": "stdout",
     "output_type": "stream",
     "text": [
      "123\n",
      "123\n"
     ]
    }
   ],
   "source": [
    "# Confirm that number of predictors match observations\n",
    "print(len(data_train) + len(data_test1) + len(data_test2))\n",
    "print(len(cycle_lives_train) + len(cycle_lives_test1) + len(cycle_lives_test2))"
   ]
  },
  {
   "cell_type": "code",
   "execution_count": 36,
   "metadata": {},
   "outputs": [],
   "source": [
    "# Why log? see paper\n",
    "y_train = np.log10(cycle_lives_train)\n",
    "y_test1 = np.log10(cycle_lives_test1)\n",
    "y_test2 = np.log10(cycle_lives_test2)"
   ]
  },
  {
   "cell_type": "markdown",
   "metadata": {},
   "source": [
    "### Data displaying <a class=\"anchor\" id=\"data_displaying\"></a>"
   ]
  },
  {
   "cell_type": "code",
   "execution_count": 91,
   "metadata": {},
   "outputs": [
    {
     "data": {
      "image/png": "[encoded data removed]",
      "text/plain": [
       "<Figure size 432x288 with 1 Axes>"
      ]
     },
     "metadata": {
      "needs_background": "light"
     },
     "output_type": "display_data"
    }
   ],
   "source": [
    "Qd = data_train[21,:,98]\n",
    "Voltage = np.linspace(3.6, 2, 1000) # Batteries cycled from 3.6 V to 2 V\n",
    "\n",
    "plt.plot(Qd, Voltage)\n",
    "plt.xlabel(\"Discharge Capacity [Ah]\")\n",
    "plt.ylabel(\"Voltage [V]\")\n",
    "plt.title(\"Discharge voltage curve for representative cell\")\n",
    "plt.show()"
   ]
  },
  {
   "cell_type": "markdown",
   "metadata": {},
   "source": [
    "### Generate features"
   ]
  },
  {
   "cell_type": "code",
   "execution_count": 189,
   "metadata": {},
   "outputs": [
    {
     "data": {
      "image/png": "[encoded data removed]",
      "text/plain": [
       "<Figure size 432x288 with 1 Axes>"
      ]
     },
     "metadata": {
      "needs_background": "light"
     },
     "output_type": "display_data"
    },
    {
     "name": "stdout",
     "output_type": "stream",
     "text": [
      "(41,)\n",
      "(41,)\n",
      "(41, 1000)\n",
      "(41,)\n"
     ]
    }
   ],
   "source": [
    "from scipy.stats import skew, kurtosis\n",
    "\n",
    "Qd100_10 = data_train[:, :, 98] - data_train[:, :, 8]\n",
    "\n",
    "var_Qd = np.zeros(data_train.shape[0])\n",
    "min_Qd = np.zeros(data_train.shape[0])\n",
    "mean_Qd = np.zeros(data_train.shape[0])\n",
    "skew_Qd = np.zeros(data_train.shape[0])\n",
    "kurtosis_Qd = np.zeros(data_train.shape[0])\n",
    "\n",
    "for i in range(data_train.shape[0]):\n",
    "    var_Qd[i] = np.log10(abs(np.var(Qd100_10[i,:]))) # Var(Qd100-Qd10)\n",
    "    min_Qd[i] = np.log10(abs(np.min(Qd100_10[i,:])))\n",
    "    mean_Qd[i] = np.log10(abs(np.mean(Qd100_10[i,:])))\n",
    "    skew_Qd[i] = np.log10(abs(skew(Qd100_10[i,:])))\n",
    "    kurtosis_Qd[i] = np.log10(abs(kurtosis(Qd100_10[i,:])))\n",
    "    \n",
    "    \n",
    "\n",
    "plt.scatter(var_Qd, y_train)\n",
    "plt.show()\n",
    "print(var_Qd.shape)\n",
    "print(y_train.shape)\n",
    "print(Qd100_10.shape)\n",
    "print(skew_Qd.shape)"
   ]
  },
  {
   "cell_type": "markdown",
   "metadata": {},
   "source": [
    "### Univariate models <a class=\"anchor\" id=\"univariate\"></a>"
   ]
  },
  {
   "cell_type": "code",
   "execution_count": 199,
   "metadata": {},
   "outputs": [
    {
     "name": "stdout",
     "output_type": "stream",
     "text": [
      "0.004751861075634056 0.013539711234700456 0.026106149319886276\n",
      "[-0.00535771 -0.00704573 -0.00412649 -0.00462274 -0.00933957]\n"
     ]
    },
    {
     "data": {
      "image/png": "[encoded data removed]",
      "text/plain": [
       "<Figure size 432x288 with 1 Axes>"
      ]
     },
     "metadata": {
      "needs_background": "light"
     },
     "output_type": "display_data"
    }
   ],
   "source": [
    "from sklearn.linear_model import LinearRegression\n",
    "from sklearn.linear_model import Ridge\n",
    "from sklearn.linear_model import Lasso\n",
    "from sklearn.linear_model import ElasticNetCV\n",
    "from sklearn.model_selection import cross_val_score\n",
    "\n",
    "x_train = var_Qd\n",
    "\n",
    "linreg = LinearRegression()\n",
    "lr = LinearRegression()\n",
    "ridge = Ridge(alpha=10)\n",
    "lasso = Lasso()\n",
    "#enet = ElasticNetCV(l1_ratio=l1_ratios, cv=5, random_state=0)\n",
    "#enet.fit(X_train_scaled, y_train)\n",
    "\n",
    "linreg.fit(x_train.reshape(-1,1), y_train.reshape(-1,1))\n",
    "ridge.fit(x_train.reshape(-1,1), y_train.reshape(-1,1))\n",
    "lasso.fit(x_train.reshape(-1,1), y_train.reshape(-1,1))\n",
    "\n",
    "ypred_ols = linreg.predict(x_train.reshape(-1,1))\n",
    "ypred_ridge = ridge.predict(x_train.reshape(-1,1))\n",
    "ypred_lasso = lasso.predict(x_train.reshape(-1,1))\n",
    "\n",
    "mse_ols = mean_squared_error(y_train,ypred_ols)\n",
    "mse_ridge = mean_squared_error(y_train,ypred_ridge)\n",
    "mse_lasso = mean_squared_error(y_train,ypred_lasso)\n",
    "\n",
    "print(mse_ols,mse_ridge,mse_lasso)\n",
    "print(cross_val_score(lr, x_train.reshape(-1,1), y_train.reshape(-1,1), scoring='neg_mean_squared_error', cv=5))\n",
    "\n",
    "plt.scatter(x_train, y_train, color=\"black\")\n",
    "plt.plot(x_train, ypred_ols, label=\"OLS\")\n",
    "plt.plot(x_train, ypred_ridge, label=\"Ridge\")\n",
    "plt.plot(x_train, ypred_lasso, label=\"Lasso\")\n",
    "plt.xlabel(\"$var(Q_{100-10})$\")\n",
    "plt.ylabel(\"log10 (cycle life)\")\n",
    "plt.legend()\n",
    "plt.show()"
   ]
  },
  {
   "cell_type": "code",
   "execution_count": null,
   "metadata": {},
   "outputs": [],
   "source": []
  }
 ],
 "metadata": {
  "kernelspec": {
   "display_name": "Python 3",
   "language": "python",
   "name": "python3"
  },
  "language_info": {
   "codemirror_mode": {
    "name": "ipython",
    "version": 3
   },
   "file_extension": ".py",
   "mimetype": "text/x-python",
   "name": "python",
   "nbconvert_exporter": "python",
   "pygments_lexer": "ipython3",
   "version": "3.8.5"
  }
 },
 "nbformat": 4,
 "nbformat_minor": 4
}
