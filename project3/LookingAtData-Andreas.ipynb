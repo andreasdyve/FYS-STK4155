{
 "cells": [
  {
   "cell_type": "markdown",
   "metadata": {},
   "source": [
    "# Data driven prediction of battery cycle life before capacity degradation\n",
    "\n",
    "Paper:\n",
    "\n",
    "[Severson, K.A., Attia, P.M., Jin, N. et al. Data-driven prediction of battery cycle life before capacity degradation. Nat Energy 4, 383–391 (2019)](https://www.nature.com/articles/s41560-019-0356-8)\n",
    "\n",
    "\n",
    "Data:\n",
    "\n",
    "[Experimental Data Platform (matr.io))](https://data.matr.io/1/projects/5c48dd2bc625d700019f3204)\n"
   ]
  },
  {
   "cell_type": "markdown",
   "metadata": {},
   "source": [
    "Last edit: 10.08.2021"
   ]
  },
  {
   "cell_type": "markdown",
   "metadata": {},
   "source": [
    "## Import packages and modules"
   ]
  },
  {
   "cell_type": "code",
   "execution_count": 1,
   "metadata": {},
   "outputs": [],
   "source": [
    "import pathlib\n",
    "from sklearn.preprocessing import MinMaxScaler\n",
    "from sklearn.preprocessing import minmax_scale\n",
    "#from sklearn.preprocessing import StandardsScaler\n",
    "import matplotlib as mpl\n",
    "import matplotlib.pyplot as plt\n",
    "import pandas as pd\n",
    "import os, random\n",
    "import numpy as np\n",
    "import statistics"
   ]
  },
  {
   "cell_type": "markdown",
   "metadata": {},
   "source": [
    "# Try with a test file"
   ]
  },
  {
   "cell_type": "code",
   "execution_count": 9,
   "metadata": {},
   "outputs": [
    {
     "data": {
      "text/plain": [
       "True"
      ]
     },
     "execution_count": 9,
     "metadata": {},
     "output_type": "execute_result"
    }
   ],
   "source": [
    "# edit this if you dont have the data in a subfolder called data\n",
    "testfile = pathlib.Path(\"/Users/Andreas/Documents/Data\") / \"FastCharge_000007_CH39_structure.json\"\n",
    "testfile.is_file()"
   ]
  },
  {
   "cell_type": "code",
   "execution_count": 10,
   "metadata": {},
   "outputs": [],
   "source": [
    "df = pd.read_json(testfile)"
   ]
  },
  {
   "cell_type": "code",
   "execution_count": 11,
   "metadata": {},
   "outputs": [
    {
     "data": {
      "text/plain": [
       "Index(['@module', '@class', 'barcode', 'protocol', 'channel_id', 'summary',\n",
       "       'cycles_interpolated', 'diagnostic_summary', 'diagnostic_interpolated',\n",
       "       '@version'],\n",
       "      dtype='object')"
      ]
     },
     "execution_count": 11,
     "metadata": {},
     "output_type": "execute_result"
    }
   ],
   "source": [
    "df.columns"
   ]
  },
  {
   "cell_type": "code",
   "execution_count": 12,
   "metadata": {},
   "outputs": [
    {
     "data": {
      "text/plain": [
       "Index(['cycle_index', 'discharge_capacity', 'charge_capacity',\n",
       "       'discharge_energy', 'charge_energy', 'dc_internal_resistance',\n",
       "       'temperature_maximum', 'temperature_average', 'temperature_minimum',\n",
       "       'date_time_iso', 'energy_efficiency', 'charge_throughput',\n",
       "       'energy_throughput', 'charge_duration', 'time_temperature_integrated',\n",
       "       'paused', 'voltage', 'current', 'temperature', 'internal_resistance',\n",
       "       'step_type'],\n",
       "      dtype='object')"
      ]
     },
     "execution_count": 12,
     "metadata": {},
     "output_type": "execute_result"
    }
   ],
   "source": [
    "df.index"
   ]
  },
  {
   "cell_type": "code",
   "execution_count": 6,
   "metadata": {},
   "outputs": [
    {
     "data": {
      "text/html": [
       "<div>\n",
       "<style scoped>\n",
       "    .dataframe tbody tr th:only-of-type {\n",
       "        vertical-align: middle;\n",
       "    }\n",
       "\n",
       "    .dataframe tbody tr th {\n",
       "        vertical-align: top;\n",
       "    }\n",
       "\n",
       "    .dataframe thead th {\n",
       "        text-align: right;\n",
       "    }\n",
       "</style>\n",
       "<table border=\"1\" class=\"dataframe\">\n",
       "  <thead>\n",
       "    <tr style=\"text-align: right;\">\n",
       "      <th></th>\n",
       "      <th>@module</th>\n",
       "      <th>@class</th>\n",
       "      <th>barcode</th>\n",
       "      <th>protocol</th>\n",
       "      <th>channel_id</th>\n",
       "      <th>summary</th>\n",
       "      <th>cycles_interpolated</th>\n",
       "      <th>diagnostic_summary</th>\n",
       "      <th>diagnostic_interpolated</th>\n",
       "      <th>@version</th>\n",
       "    </tr>\n",
       "  </thead>\n",
       "  <tbody>\n",
       "    <tr>\n",
       "      <th>cycle_index</th>\n",
       "      <td>beep.structure</td>\n",
       "      <td>ProcessedCyclerRun</td>\n",
       "      <td>el150800737320</td>\n",
       "      <td>2018-04-12_batch8\\20180412-5_9C_15per_4_6C_new...</td>\n",
       "      <td>38</td>\n",
       "      <td>[0, 1, 2, 3, 4, 5, 6, 7, 8, 9, 10, 11, 12, 13,...</td>\n",
       "      <td>[0, 0, 0, 0, 0, 0, 0, 0, 0, 0, 0, 0, 0, 0, 0, ...</td>\n",
       "      <td>NaN</td>\n",
       "      <td>NaN</td>\n",
       "      <td>2020.10.19.20-8667111</td>\n",
       "    </tr>\n",
       "    <tr>\n",
       "      <th>discharge_capacity</th>\n",
       "      <td>beep.structure</td>\n",
       "      <td>ProcessedCyclerRun</td>\n",
       "      <td>el150800737320</td>\n",
       "      <td>2018-04-12_batch8\\20180412-5_9C_15per_4_6C_new...</td>\n",
       "      <td>38</td>\n",
       "      <td>[1.5537410999999999, 1.0652004, 1.0663688, 1.0...</td>\n",
       "      <td>[1.239493058590234, 1.356596500246578, 1.47369...</td>\n",
       "      <td>NaN</td>\n",
       "      <td>NaN</td>\n",
       "      <td>2020.10.19.20-8667111</td>\n",
       "    </tr>\n",
       "    <tr>\n",
       "      <th>charge_capacity</th>\n",
       "      <td>beep.structure</td>\n",
       "      <td>ProcessedCyclerRun</td>\n",
       "      <td>el150800737320</td>\n",
       "      <td>2018-04-12_batch8\\20180412-5_9C_15per_4_6C_new...</td>\n",
       "      <td>38</td>\n",
       "      <td>[1.063142499999999, 1.064750399999999, 1.06594...</td>\n",
       "      <td>[0.811714026408144, 0.933594370952411, 1.05547...</td>\n",
       "      <td>NaN</td>\n",
       "      <td>NaN</td>\n",
       "      <td>2020.10.19.20-8667111</td>\n",
       "    </tr>\n",
       "    <tr>\n",
       "      <th>discharge_energy</th>\n",
       "      <td>beep.structure</td>\n",
       "      <td>ProcessedCyclerRun</td>\n",
       "      <td>el150800737320</td>\n",
       "      <td>2018-04-12_batch8\\20180412-5_9C_15per_4_6C_new...</td>\n",
       "      <td>38</td>\n",
       "      <td>[4.7624459, 3.2459061, 3.2504842, 3.2541139, 3...</td>\n",
       "      <td>NaN</td>\n",
       "      <td>NaN</td>\n",
       "      <td>NaN</td>\n",
       "      <td>2020.10.19.20-8667111</td>\n",
       "    </tr>\n",
       "    <tr>\n",
       "      <th>charge_energy</th>\n",
       "      <td>beep.structure</td>\n",
       "      <td>ProcessedCyclerRun</td>\n",
       "      <td>el150800737320</td>\n",
       "      <td>2018-04-12_batch8\\20180412-5_9C_15per_4_6C_new...</td>\n",
       "      <td>38</td>\n",
       "      <td>[3.7076066, 3.6959732, 3.6983836, 3.7004894999...</td>\n",
       "      <td>NaN</td>\n",
       "      <td>NaN</td>\n",
       "      <td>NaN</td>\n",
       "      <td>2020.10.19.20-8667111</td>\n",
       "    </tr>\n",
       "    <tr>\n",
       "      <th>dc_internal_resistance</th>\n",
       "      <td>beep.structure</td>\n",
       "      <td>ProcessedCyclerRun</td>\n",
       "      <td>el150800737320</td>\n",
       "      <td>2018-04-12_batch8\\20180412-5_9C_15per_4_6C_new...</td>\n",
       "      <td>38</td>\n",
       "      <td>[0.015025828965008, 0.014992444775998, 0.01496...</td>\n",
       "      <td>NaN</td>\n",
       "      <td>NaN</td>\n",
       "      <td>NaN</td>\n",
       "      <td>2020.10.19.20-8667111</td>\n",
       "    </tr>\n",
       "    <tr>\n",
       "      <th>temperature_maximum</th>\n",
       "      <td>beep.structure</td>\n",
       "      <td>ProcessedCyclerRun</td>\n",
       "      <td>el150800737320</td>\n",
       "      <td>2018-04-12_batch8\\20180412-5_9C_15per_4_6C_new...</td>\n",
       "      <td>38</td>\n",
       "      <td>[32.24843978881836, 31.780742645263672, 31.723...</td>\n",
       "      <td>NaN</td>\n",
       "      <td>NaN</td>\n",
       "      <td>NaN</td>\n",
       "      <td>2020.10.19.20-8667111</td>\n",
       "    </tr>\n",
       "    <tr>\n",
       "      <th>temperature_average</th>\n",
       "      <td>beep.structure</td>\n",
       "      <td>ProcessedCyclerRun</td>\n",
       "      <td>el150800737320</td>\n",
       "      <td>2018-04-12_batch8\\20180412-5_9C_15per_4_6C_new...</td>\n",
       "      <td>38</td>\n",
       "      <td>[30.910825729370117, 31.250967025756836, 31.24...</td>\n",
       "      <td>NaN</td>\n",
       "      <td>NaN</td>\n",
       "      <td>NaN</td>\n",
       "      <td>2020.10.19.20-8667111</td>\n",
       "    </tr>\n",
       "    <tr>\n",
       "      <th>temperature_minimum</th>\n",
       "      <td>beep.structure</td>\n",
       "      <td>ProcessedCyclerRun</td>\n",
       "      <td>el150800737320</td>\n",
       "      <td>2018-04-12_batch8\\20180412-5_9C_15per_4_6C_new...</td>\n",
       "      <td>38</td>\n",
       "      <td>[22.150121688842773, 30.74786376953125, 30.744...</td>\n",
       "      <td>NaN</td>\n",
       "      <td>NaN</td>\n",
       "      <td>NaN</td>\n",
       "      <td>2020.10.19.20-8667111</td>\n",
       "    </tr>\n",
       "    <tr>\n",
       "      <th>date_time_iso</th>\n",
       "      <td>beep.structure</td>\n",
       "      <td>ProcessedCyclerRun</td>\n",
       "      <td>el150800737320</td>\n",
       "      <td>2018-04-12_batch8\\20180412-5_9C_15per_4_6C_new...</td>\n",
       "      <td>38</td>\n",
       "      <td>[2018-04-13T01:27:28+00:00, 2018-04-14T06:21:5...</td>\n",
       "      <td>NaN</td>\n",
       "      <td>NaN</td>\n",
       "      <td>NaN</td>\n",
       "      <td>2020.10.19.20-8667111</td>\n",
       "    </tr>\n",
       "    <tr>\n",
       "      <th>energy_efficiency</th>\n",
       "      <td>beep.structure</td>\n",
       "      <td>ProcessedCyclerRun</td>\n",
       "      <td>el150800737320</td>\n",
       "      <td>2018-04-12_batch8\\20180412-5_9C_15per_4_6C_new...</td>\n",
       "      <td>38</td>\n",
       "      <td>[1.2845068028522761, 0.878227715503997, 0.8788...</td>\n",
       "      <td>NaN</td>\n",
       "      <td>NaN</td>\n",
       "      <td>NaN</td>\n",
       "      <td>2020.10.19.20-8667111</td>\n",
       "    </tr>\n",
       "    <tr>\n",
       "      <th>charge_throughput</th>\n",
       "      <td>beep.structure</td>\n",
       "      <td>ProcessedCyclerRun</td>\n",
       "      <td>el150800737320</td>\n",
       "      <td>2018-04-12_batch8\\20180412-5_9C_15per_4_6C_new...</td>\n",
       "      <td>38</td>\n",
       "      <td>[1.063142538070678, 2.127892971038818, 3.19383...</td>\n",
       "      <td>NaN</td>\n",
       "      <td>NaN</td>\n",
       "      <td>NaN</td>\n",
       "      <td>2020.10.19.20-8667111</td>\n",
       "    </tr>\n",
       "    <tr>\n",
       "      <th>energy_throughput</th>\n",
       "      <td>beep.structure</td>\n",
       "      <td>ProcessedCyclerRun</td>\n",
       "      <td>el150800737320</td>\n",
       "      <td>2018-04-12_batch8\\20180412-5_9C_15per_4_6C_new...</td>\n",
       "      <td>38</td>\n",
       "      <td>[3.707606554031372, 7.4035797119140625, 11.101...</td>\n",
       "      <td>NaN</td>\n",
       "      <td>NaN</td>\n",
       "      <td>NaN</td>\n",
       "      <td>2020.10.19.20-8667111</td>\n",
       "    </tr>\n",
       "    <tr>\n",
       "      <th>charge_duration</th>\n",
       "      <td>beep.structure</td>\n",
       "      <td>ProcessedCyclerRun</td>\n",
       "      <td>el150800737320</td>\n",
       "      <td>2018-04-12_batch8\\20180412-5_9C_15per_4_6C_new...</td>\n",
       "      <td>38</td>\n",
       "      <td>[101632.0, 640.0, 640.0, 512.0, 640.0, 640.0, ...</td>\n",
       "      <td>NaN</td>\n",
       "      <td>NaN</td>\n",
       "      <td>NaN</td>\n",
       "      <td>2020.10.19.20-8667111</td>\n",
       "    </tr>\n",
       "    <tr>\n",
       "      <th>time_temperature_integrated</th>\n",
       "      <td>beep.structure</td>\n",
       "      <td>ProcessedCyclerRun</td>\n",
       "      <td>el150800737320</td>\n",
       "      <td>2018-04-12_batch8\\20180412-5_9C_15per_4_6C_new...</td>\n",
       "      <td>38</td>\n",
       "      <td>[None, 1533.2990256623943, 1532.8476843548433,...</td>\n",
       "      <td>NaN</td>\n",
       "      <td>NaN</td>\n",
       "      <td>NaN</td>\n",
       "      <td>2020.10.19.20-8667111</td>\n",
       "    </tr>\n",
       "    <tr>\n",
       "      <th>paused</th>\n",
       "      <td>beep.structure</td>\n",
       "      <td>ProcessedCyclerRun</td>\n",
       "      <td>el150800737320</td>\n",
       "      <td>2018-04-12_batch8\\20180412-5_9C_15per_4_6C_new...</td>\n",
       "      <td>38</td>\n",
       "      <td>[0, 0, 0, 0, 0, 0, 0, 0, 0, 0, 0, 0, 0, 0, 0, ...</td>\n",
       "      <td>NaN</td>\n",
       "      <td>NaN</td>\n",
       "      <td>NaN</td>\n",
       "      <td>2020.10.19.20-8667111</td>\n",
       "    </tr>\n",
       "    <tr>\n",
       "      <th>voltage</th>\n",
       "      <td>beep.structure</td>\n",
       "      <td>ProcessedCyclerRun</td>\n",
       "      <td>el150800737320</td>\n",
       "      <td>2018-04-12_batch8\\20180412-5_9C_15per_4_6C_new...</td>\n",
       "      <td>38</td>\n",
       "      <td>NaN</td>\n",
       "      <td>[2.799999952316284, 2.8007006645202632, 2.8014...</td>\n",
       "      <td>NaN</td>\n",
       "      <td>NaN</td>\n",
       "      <td>2020.10.19.20-8667111</td>\n",
       "    </tr>\n",
       "    <tr>\n",
       "      <th>current</th>\n",
       "      <td>beep.structure</td>\n",
       "      <td>ProcessedCyclerRun</td>\n",
       "      <td>el150800737320</td>\n",
       "      <td>2018-04-12_batch8\\20180412-5_9C_15per_4_6C_new...</td>\n",
       "      <td>38</td>\n",
       "      <td>NaN</td>\n",
       "      <td>[-3.619476556777954, -3.99776291847229, -4.376...</td>\n",
       "      <td>NaN</td>\n",
       "      <td>NaN</td>\n",
       "      <td>2020.10.19.20-8667111</td>\n",
       "    </tr>\n",
       "    <tr>\n",
       "      <th>temperature</th>\n",
       "      <td>beep.structure</td>\n",
       "      <td>ProcessedCyclerRun</td>\n",
       "      <td>el150800737320</td>\n",
       "      <td>2018-04-12_batch8\\20180412-5_9C_15per_4_6C_new...</td>\n",
       "      <td>38</td>\n",
       "      <td>NaN</td>\n",
       "      <td>[31.221561431884766, 31.309465408325195, 31.39...</td>\n",
       "      <td>NaN</td>\n",
       "      <td>NaN</td>\n",
       "      <td>2020.10.19.20-8667111</td>\n",
       "    </tr>\n",
       "    <tr>\n",
       "      <th>internal_resistance</th>\n",
       "      <td>beep.structure</td>\n",
       "      <td>ProcessedCyclerRun</td>\n",
       "      <td>el150800737320</td>\n",
       "      <td>2018-04-12_batch8\\20180412-5_9C_15per_4_6C_new...</td>\n",
       "      <td>38</td>\n",
       "      <td>NaN</td>\n",
       "      <td>[0.015025828965008, 0.015025828965008, 0.01502...</td>\n",
       "      <td>NaN</td>\n",
       "      <td>NaN</td>\n",
       "      <td>2020.10.19.20-8667111</td>\n",
       "    </tr>\n",
       "  </tbody>\n",
       "</table>\n",
       "</div>"
      ],
      "text/plain": [
       "                                    @module              @class  \\\n",
       "cycle_index                  beep.structure  ProcessedCyclerRun   \n",
       "discharge_capacity           beep.structure  ProcessedCyclerRun   \n",
       "charge_capacity              beep.structure  ProcessedCyclerRun   \n",
       "discharge_energy             beep.structure  ProcessedCyclerRun   \n",
       "charge_energy                beep.structure  ProcessedCyclerRun   \n",
       "dc_internal_resistance       beep.structure  ProcessedCyclerRun   \n",
       "temperature_maximum          beep.structure  ProcessedCyclerRun   \n",
       "temperature_average          beep.structure  ProcessedCyclerRun   \n",
       "temperature_minimum          beep.structure  ProcessedCyclerRun   \n",
       "date_time_iso                beep.structure  ProcessedCyclerRun   \n",
       "energy_efficiency            beep.structure  ProcessedCyclerRun   \n",
       "charge_throughput            beep.structure  ProcessedCyclerRun   \n",
       "energy_throughput            beep.structure  ProcessedCyclerRun   \n",
       "charge_duration              beep.structure  ProcessedCyclerRun   \n",
       "time_temperature_integrated  beep.structure  ProcessedCyclerRun   \n",
       "paused                       beep.structure  ProcessedCyclerRun   \n",
       "voltage                      beep.structure  ProcessedCyclerRun   \n",
       "current                      beep.structure  ProcessedCyclerRun   \n",
       "temperature                  beep.structure  ProcessedCyclerRun   \n",
       "internal_resistance          beep.structure  ProcessedCyclerRun   \n",
       "\n",
       "                                    barcode  \\\n",
       "cycle_index                  el150800737320   \n",
       "discharge_capacity           el150800737320   \n",
       "charge_capacity              el150800737320   \n",
       "discharge_energy             el150800737320   \n",
       "charge_energy                el150800737320   \n",
       "dc_internal_resistance       el150800737320   \n",
       "temperature_maximum          el150800737320   \n",
       "temperature_average          el150800737320   \n",
       "temperature_minimum          el150800737320   \n",
       "date_time_iso                el150800737320   \n",
       "energy_efficiency            el150800737320   \n",
       "charge_throughput            el150800737320   \n",
       "energy_throughput            el150800737320   \n",
       "charge_duration              el150800737320   \n",
       "time_temperature_integrated  el150800737320   \n",
       "paused                       el150800737320   \n",
       "voltage                      el150800737320   \n",
       "current                      el150800737320   \n",
       "temperature                  el150800737320   \n",
       "internal_resistance          el150800737320   \n",
       "\n",
       "                                                                      protocol  \\\n",
       "cycle_index                  2018-04-12_batch8\\20180412-5_9C_15per_4_6C_new...   \n",
       "discharge_capacity           2018-04-12_batch8\\20180412-5_9C_15per_4_6C_new...   \n",
       "charge_capacity              2018-04-12_batch8\\20180412-5_9C_15per_4_6C_new...   \n",
       "discharge_energy             2018-04-12_batch8\\20180412-5_9C_15per_4_6C_new...   \n",
       "charge_energy                2018-04-12_batch8\\20180412-5_9C_15per_4_6C_new...   \n",
       "dc_internal_resistance       2018-04-12_batch8\\20180412-5_9C_15per_4_6C_new...   \n",
       "temperature_maximum          2018-04-12_batch8\\20180412-5_9C_15per_4_6C_new...   \n",
       "temperature_average          2018-04-12_batch8\\20180412-5_9C_15per_4_6C_new...   \n",
       "temperature_minimum          2018-04-12_batch8\\20180412-5_9C_15per_4_6C_new...   \n",
       "date_time_iso                2018-04-12_batch8\\20180412-5_9C_15per_4_6C_new...   \n",
       "energy_efficiency            2018-04-12_batch8\\20180412-5_9C_15per_4_6C_new...   \n",
       "charge_throughput            2018-04-12_batch8\\20180412-5_9C_15per_4_6C_new...   \n",
       "energy_throughput            2018-04-12_batch8\\20180412-5_9C_15per_4_6C_new...   \n",
       "charge_duration              2018-04-12_batch8\\20180412-5_9C_15per_4_6C_new...   \n",
       "time_temperature_integrated  2018-04-12_batch8\\20180412-5_9C_15per_4_6C_new...   \n",
       "paused                       2018-04-12_batch8\\20180412-5_9C_15per_4_6C_new...   \n",
       "voltage                      2018-04-12_batch8\\20180412-5_9C_15per_4_6C_new...   \n",
       "current                      2018-04-12_batch8\\20180412-5_9C_15per_4_6C_new...   \n",
       "temperature                  2018-04-12_batch8\\20180412-5_9C_15per_4_6C_new...   \n",
       "internal_resistance          2018-04-12_batch8\\20180412-5_9C_15per_4_6C_new...   \n",
       "\n",
       "                             channel_id  \\\n",
       "cycle_index                          38   \n",
       "discharge_capacity                   38   \n",
       "charge_capacity                      38   \n",
       "discharge_energy                     38   \n",
       "charge_energy                        38   \n",
       "dc_internal_resistance               38   \n",
       "temperature_maximum                  38   \n",
       "temperature_average                  38   \n",
       "temperature_minimum                  38   \n",
       "date_time_iso                        38   \n",
       "energy_efficiency                    38   \n",
       "charge_throughput                    38   \n",
       "energy_throughput                    38   \n",
       "charge_duration                      38   \n",
       "time_temperature_integrated          38   \n",
       "paused                               38   \n",
       "voltage                              38   \n",
       "current                              38   \n",
       "temperature                          38   \n",
       "internal_resistance                  38   \n",
       "\n",
       "                                                                       summary  \\\n",
       "cycle_index                  [0, 1, 2, 3, 4, 5, 6, 7, 8, 9, 10, 11, 12, 13,...   \n",
       "discharge_capacity           [1.5537410999999999, 1.0652004, 1.0663688, 1.0...   \n",
       "charge_capacity              [1.063142499999999, 1.064750399999999, 1.06594...   \n",
       "discharge_energy             [4.7624459, 3.2459061, 3.2504842, 3.2541139, 3...   \n",
       "charge_energy                [3.7076066, 3.6959732, 3.6983836, 3.7004894999...   \n",
       "dc_internal_resistance       [0.015025828965008, 0.014992444775998, 0.01496...   \n",
       "temperature_maximum          [32.24843978881836, 31.780742645263672, 31.723...   \n",
       "temperature_average          [30.910825729370117, 31.250967025756836, 31.24...   \n",
       "temperature_minimum          [22.150121688842773, 30.74786376953125, 30.744...   \n",
       "date_time_iso                [2018-04-13T01:27:28+00:00, 2018-04-14T06:21:5...   \n",
       "energy_efficiency            [1.2845068028522761, 0.878227715503997, 0.8788...   \n",
       "charge_throughput            [1.063142538070678, 2.127892971038818, 3.19383...   \n",
       "energy_throughput            [3.707606554031372, 7.4035797119140625, 11.101...   \n",
       "charge_duration              [101632.0, 640.0, 640.0, 512.0, 640.0, 640.0, ...   \n",
       "time_temperature_integrated  [None, 1533.2990256623943, 1532.8476843548433,...   \n",
       "paused                       [0, 0, 0, 0, 0, 0, 0, 0, 0, 0, 0, 0, 0, 0, 0, ...   \n",
       "voltage                                                                    NaN   \n",
       "current                                                                    NaN   \n",
       "temperature                                                                NaN   \n",
       "internal_resistance                                                        NaN   \n",
       "\n",
       "                                                           cycles_interpolated  \\\n",
       "cycle_index                  [0, 0, 0, 0, 0, 0, 0, 0, 0, 0, 0, 0, 0, 0, 0, ...   \n",
       "discharge_capacity           [1.239493058590234, 1.356596500246578, 1.47369...   \n",
       "charge_capacity              [0.811714026408144, 0.933594370952411, 1.05547...   \n",
       "discharge_energy                                                           NaN   \n",
       "charge_energy                                                              NaN   \n",
       "dc_internal_resistance                                                     NaN   \n",
       "temperature_maximum                                                        NaN   \n",
       "temperature_average                                                        NaN   \n",
       "temperature_minimum                                                        NaN   \n",
       "date_time_iso                                                              NaN   \n",
       "energy_efficiency                                                          NaN   \n",
       "charge_throughput                                                          NaN   \n",
       "energy_throughput                                                          NaN   \n",
       "charge_duration                                                            NaN   \n",
       "time_temperature_integrated                                                NaN   \n",
       "paused                                                                     NaN   \n",
       "voltage                      [2.799999952316284, 2.8007006645202632, 2.8014...   \n",
       "current                      [-3.619476556777954, -3.99776291847229, -4.376...   \n",
       "temperature                  [31.221561431884766, 31.309465408325195, 31.39...   \n",
       "internal_resistance          [0.015025828965008, 0.015025828965008, 0.01502...   \n",
       "\n",
       "                             diagnostic_summary  diagnostic_interpolated  \\\n",
       "cycle_index                                 NaN                      NaN   \n",
       "discharge_capacity                          NaN                      NaN   \n",
       "charge_capacity                             NaN                      NaN   \n",
       "discharge_energy                            NaN                      NaN   \n",
       "charge_energy                               NaN                      NaN   \n",
       "dc_internal_resistance                      NaN                      NaN   \n",
       "temperature_maximum                         NaN                      NaN   \n",
       "temperature_average                         NaN                      NaN   \n",
       "temperature_minimum                         NaN                      NaN   \n",
       "date_time_iso                               NaN                      NaN   \n",
       "energy_efficiency                           NaN                      NaN   \n",
       "charge_throughput                           NaN                      NaN   \n",
       "energy_throughput                           NaN                      NaN   \n",
       "charge_duration                             NaN                      NaN   \n",
       "time_temperature_integrated                 NaN                      NaN   \n",
       "paused                                      NaN                      NaN   \n",
       "voltage                                     NaN                      NaN   \n",
       "current                                     NaN                      NaN   \n",
       "temperature                                 NaN                      NaN   \n",
       "internal_resistance                         NaN                      NaN   \n",
       "\n",
       "                                          @version  \n",
       "cycle_index                  2020.10.19.20-8667111  \n",
       "discharge_capacity           2020.10.19.20-8667111  \n",
       "charge_capacity              2020.10.19.20-8667111  \n",
       "discharge_energy             2020.10.19.20-8667111  \n",
       "charge_energy                2020.10.19.20-8667111  \n",
       "dc_internal_resistance       2020.10.19.20-8667111  \n",
       "temperature_maximum          2020.10.19.20-8667111  \n",
       "temperature_average          2020.10.19.20-8667111  \n",
       "temperature_minimum          2020.10.19.20-8667111  \n",
       "date_time_iso                2020.10.19.20-8667111  \n",
       "energy_efficiency            2020.10.19.20-8667111  \n",
       "charge_throughput            2020.10.19.20-8667111  \n",
       "energy_throughput            2020.10.19.20-8667111  \n",
       "charge_duration              2020.10.19.20-8667111  \n",
       "time_temperature_integrated  2020.10.19.20-8667111  \n",
       "paused                       2020.10.19.20-8667111  \n",
       "voltage                      2020.10.19.20-8667111  \n",
       "current                      2020.10.19.20-8667111  \n",
       "temperature                  2020.10.19.20-8667111  \n",
       "internal_resistance          2020.10.19.20-8667111  "
      ]
     },
     "execution_count": 6,
     "metadata": {},
     "output_type": "execute_result"
    }
   ],
   "source": [
    "df.head(20)"
   ]
  },
  {
   "cell_type": "markdown",
   "metadata": {},
   "source": [
    "# Function to pick a number of cell files and make dataframes\n",
    "\n",
    "- The function below takes in filepath as argument, but for the function call in the example to work, the folder structure has to be:\n",
    "\n",
    "  Some Folder/          \n",
    "          LookingAtData-Andreas.ipynb\n",
    "          Beep structured files/\n",
    "                                 FastCharge/\n",
    "                                             FastCharge_000000_CH19_structure\n",
    "                                             ...\n",
    "                                             ...\n",
    "                                             "
   ]
  },
  {
   "cell_type": "code",
   "execution_count": 8,
   "metadata": {},
   "outputs": [],
   "source": [
    "def select_cells(number_of_cells, filepath):\n",
    "    \n",
    "    dataframes = []\n",
    "    files = os.listdir(filepath)\n",
    "    random.seed(6)\n",
    "    indexes = list(random.randrange(0, len(files)-1, 1) for i in range(number_of_cells))\n",
    "    print(f'random picked indexes: {indexes}')\n",
    "    \n",
    "    for index in indexes:\n",
    "        filename= files[index]\n",
    "        print(filename)\n",
    "        dataframes.append(pd.read_json(os.path.join(filepath, filename)))\n",
    "        \n",
    "    return dataframes"
   ]
  },
  {
   "cell_type": "code",
   "execution_count": 3,
   "metadata": {},
   "outputs": [],
   "source": [
    "def select_all_cells(filepath):\n",
    "    dataframes = []\n",
    "    files = os.listdir(filepath)\n",
    "    counter = 1\n",
    "    for filename in files:\n",
    "        print(filename, counter)\n",
    "        dataframes.append(pd.read_json(os.path.join(filepath, filename)))\n",
    "        counter += 1\n",
    "    return dataframe"
   ]
  },
  {
   "cell_type": "markdown",
   "metadata": {},
   "source": [
    "# Function to extract a specific column from a dataframe"
   ]
  },
  {
   "cell_type": "code",
   "execution_count": 6,
   "metadata": {},
   "outputs": [],
   "source": [
    "def select_dataset(df, column):\n",
    "    # tested for summary column \n",
    "    \n",
    "    if not isinstance(column, (list, tuple)):\n",
    "        column = [column]\n",
    "        \n",
    "    s = df.loc[:, column]\n",
    "    print(f\"Shape of selected packed dataset: {s.shape}\")\n",
    "    \n",
    "    s = s.dropna()\n",
    "    print(f\"Shape of selected packed dataset without NaNs: {s.shape}\")\n",
    "    if s.empty:\n",
    "        print(\"Non values found\")\n",
    "        return\n",
    "    \n",
    "    s = s.T.apply(pd.Series.explode).set_index(\"cycle_index\")\n",
    "    print(f\"Shape of selected unpacked dataset: {s.shape}\")\n",
    "\n",
    "    return s"
   ]
  },
  {
   "cell_type": "markdown",
   "metadata": {},
   "source": [
    "# Example: Looking at data for 50 cells"
   ]
  },
  {
   "cell_type": "code",
   "execution_count": 9,
   "metadata": {},
   "outputs": [
    {
     "name": "stdout",
     "output_type": "stream",
     "text": [
      "random picked indexes: [50, 36, 52, 5, 31, 48, 16, 2, 0, 9]\n",
      "FastCharge_000004_CH3_structure.json\n",
      "FastCharge_000017_CH25_structure.json\n",
      "FastCharge_000040_CH32_structure.json\n",
      "FastCharge_000012_CH13_structure.json\n",
      "FastCharge_000006_CH27_structure.json\n",
      "FastCharge_000050_CH40_structure.json\n",
      "FastCharge_000012_CH15_structure.json\n",
      "FastCharge_000013_CH14_structure.json\n",
      "FastCharge_000002_CH18_structure.json\n",
      "FastCharge_000066_CH25_structure.json\n"
     ]
    }
   ],
   "source": [
    "# Creates list of dataframes containing battery data files\n",
    "cells = select_cells(10, pathlib.Path(\"/Users/Andreas/Documents/Data\"))\n",
    "#cells = select_all_cells(pathlib.Path(\"BEEP structured data\\FastCharge\"))"
   ]
  },
  {
   "cell_type": "code",
   "execution_count": 10,
   "metadata": {},
   "outputs": [
    {
     "name": "stdout",
     "output_type": "stream",
     "text": [
      "Shape of selected packed dataset: (21, 1)\n",
      "Shape of selected packed dataset without NaNs: (16, 1)\n",
      "Shape of selected unpacked dataset: (1062, 15)\n",
      "Shape of selected packed dataset: (21, 1)\n",
      "Shape of selected packed dataset without NaNs: (16, 1)\n",
      "Shape of selected unpacked dataset: (1062, 15)\n",
      "Shape of selected packed dataset: (21, 1)\n",
      "Shape of selected packed dataset without NaNs: (8, 1)\n",
      "Shape of selected unpacked dataset: (2124000, 7)\n",
      "Shape of selected packed dataset: (21, 1)\n",
      "Shape of selected packed dataset without NaNs: (16, 1)\n",
      "Shape of selected unpacked dataset: (1639, 15)\n",
      "Shape of selected packed dataset: (21, 1)\n",
      "Shape of selected packed dataset without NaNs: (16, 1)\n",
      "Shape of selected unpacked dataset: (1639, 15)\n",
      "Shape of selected packed dataset: (21, 1)\n",
      "Shape of selected packed dataset without NaNs: (8, 1)\n",
      "Shape of selected unpacked dataset: (3278000, 7)\n",
      "Shape of selected packed dataset: (21, 1)\n",
      "Shape of selected packed dataset without NaNs: (16, 1)\n",
      "Shape of selected unpacked dataset: (521, 15)\n",
      "Shape of selected packed dataset: (21, 1)\n",
      "Shape of selected packed dataset without NaNs: (16, 1)\n",
      "Shape of selected unpacked dataset: (521, 15)\n",
      "Shape of selected packed dataset: (21, 1)\n",
      "Shape of selected packed dataset without NaNs: (8, 1)\n",
      "Shape of selected unpacked dataset: (1042000, 7)\n",
      "Shape of selected packed dataset: (21, 1)\n",
      "Shape of selected packed dataset without NaNs: (16, 1)\n",
      "Shape of selected unpacked dataset: (1116, 15)\n",
      "Shape of selected packed dataset: (21, 1)\n",
      "Shape of selected packed dataset without NaNs: (16, 1)\n",
      "Shape of selected unpacked dataset: (1116, 15)\n",
      "Shape of selected packed dataset: (21, 1)\n",
      "Shape of selected packed dataset without NaNs: (8, 1)\n",
      "Shape of selected unpacked dataset: (2232000, 7)\n",
      "Shape of selected packed dataset: (21, 1)\n",
      "Shape of selected packed dataset without NaNs: (16, 1)\n",
      "Shape of selected unpacked dataset: (1316, 15)\n",
      "Shape of selected packed dataset: (21, 1)\n",
      "Shape of selected packed dataset without NaNs: (16, 1)\n",
      "Shape of selected unpacked dataset: (1316, 15)\n",
      "Shape of selected packed dataset: (21, 1)\n",
      "Shape of selected packed dataset without NaNs: (8, 1)\n",
      "Shape of selected unpacked dataset: (2632000, 7)\n",
      "Shape of selected packed dataset: (21, 1)\n",
      "Shape of selected packed dataset without NaNs: (16, 1)\n",
      "Shape of selected unpacked dataset: (732, 15)\n",
      "Shape of selected packed dataset: (21, 1)\n",
      "Shape of selected packed dataset without NaNs: (16, 1)\n",
      "Shape of selected unpacked dataset: (732, 15)\n",
      "Shape of selected packed dataset: (21, 1)\n",
      "Shape of selected packed dataset without NaNs: (8, 1)\n",
      "Shape of selected unpacked dataset: (1464000, 7)\n",
      "Shape of selected packed dataset: (21, 1)\n",
      "Shape of selected packed dataset without NaNs: (16, 1)\n",
      "Shape of selected unpacked dataset: (828, 15)\n",
      "Shape of selected packed dataset: (21, 1)\n",
      "Shape of selected packed dataset without NaNs: (16, 1)\n",
      "Shape of selected unpacked dataset: (828, 15)\n",
      "Shape of selected packed dataset: (21, 1)\n",
      "Shape of selected packed dataset without NaNs: (8, 1)\n",
      "Shape of selected unpacked dataset: (1658000, 7)\n",
      "Shape of selected packed dataset: (21, 1)\n",
      "Shape of selected packed dataset without NaNs: (16, 1)\n",
      "Shape of selected unpacked dataset: (789, 15)\n",
      "Shape of selected packed dataset: (21, 1)\n",
      "Shape of selected packed dataset without NaNs: (16, 1)\n",
      "Shape of selected unpacked dataset: (789, 15)\n",
      "Shape of selected packed dataset: (21, 1)\n",
      "Shape of selected packed dataset without NaNs: (8, 1)\n",
      "Shape of selected unpacked dataset: (1578000, 7)\n",
      "Shape of selected packed dataset: (21, 1)\n",
      "Shape of selected packed dataset without NaNs: (16, 1)\n",
      "Shape of selected unpacked dataset: (829, 15)\n",
      "Shape of selected packed dataset: (21, 1)\n",
      "Shape of selected packed dataset without NaNs: (16, 1)\n",
      "Shape of selected unpacked dataset: (829, 15)\n",
      "Shape of selected packed dataset: (21, 1)\n",
      "Shape of selected packed dataset without NaNs: (8, 1)\n",
      "Shape of selected unpacked dataset: (1658000, 7)\n",
      "Shape of selected packed dataset: (21, 1)\n",
      "Shape of selected packed dataset without NaNs: (16, 1)\n",
      "Shape of selected unpacked dataset: (1018, 15)\n",
      "Shape of selected packed dataset: (21, 1)\n",
      "Shape of selected packed dataset without NaNs: (16, 1)\n",
      "Shape of selected unpacked dataset: (1018, 15)\n",
      "Shape of selected packed dataset: (21, 1)\n",
      "Shape of selected packed dataset without NaNs: (8, 1)\n",
      "Shape of selected unpacked dataset: (2036000, 7)\n"
     ]
    }
   ],
   "source": [
    "# Ignore files with cycle life less than 150 and create list of dataframes with summary data (per cycle) and full cycling data.\n",
    "df_summaries = []\n",
    "df_cycles = []\n",
    "for cell in cells:\n",
    "    if select_dataset(cell, 'summary').index[-1] > 149:\n",
    "        df_summaries.append(select_dataset(cell, 'summary'))\n",
    "        \n",
    "        cycle = select_dataset(cell, 'cycles_interpolated')\n",
    "        #cycle = cycle.dropna()\n",
    "        df_cycles.append(cycle)"
   ]
  },
  {
   "cell_type": "markdown",
   "metadata": {},
   "source": [
    "## Discharge capacity for the first 1000 cycles"
   ]
  },
  {
   "cell_type": "code",
   "execution_count": 23,
   "metadata": {},
   "outputs": [
    {
     "name": "stdout",
     "output_type": "stream",
     "text": [
      "[1061. 1638.  520. 1115. 1315.  731.  827.  788.  828. 1017.]\n",
      "[1.0, 0.7110912343470484, 0.5322003577817531, 0.4838998211091235, 0.4445438282647585, 0.27549194991055453, 0.2745974955277281, 0.2397137745974955, 0.18872987477638642, 0.0]\n"
     ]
    }
   ],
   "source": [
    "# Make array of colors to scale cells according to cycle life\n",
    "from matplotlib.colors import LinearSegmentedColormap\n",
    "cycle_lives = np.zeros(len(df_summaries))\n",
    "i = 0\n",
    "for cell in df_summaries:\n",
    "    cycle_lives[i] = cell.index[-1]\n",
    "    i += 1\n",
    "    \n",
    "#cycle_lives = np.array(cycle_lives)\n",
    "#cycle_lives = np.sort(cycle_lives)[::-1]\n",
    "cycle_lives_norm = sorted(minmax_scale(cycle_lives), reverse=True)\n",
    "\n",
    "colormap = mpl.cm.ScalarMappable(cmap='RdBu_r')\n",
    "colors = colormap.to_rgba(cycle_lives_norm)\n",
    "\n",
    "print(cycle_lives)\n",
    "print(cycle_lives_norm)"
   ]
  },
  {
   "cell_type": "code",
   "execution_count": 24,
   "metadata": {},
   "outputs": [
    {
     "data": {
      "image/png": "[encoded data removed]",
      "text/plain": [
       "<Figure size 864x288 with 1 Axes>"
      ]
     },
     "metadata": {
      "needs_background": "light"
     },
     "output_type": "display_data"
    }
   ],
   "source": [
    "# Sort cells according to cycle life\n",
    "sorted_summaries= sorted(df_summaries,key=lambda x:x.index[-1])\n",
    "\n",
    "# Plot\n",
    "fig, ax = plt.subplots(figsize=(12,4))\n",
    "Qd_ratios = np.zeros(len(sorted_summaries))\n",
    "\n",
    "i = 0\n",
    "for cell in sorted_summaries:\n",
    "    Qd = cell['discharge_capacity'][1:-1]\n",
    "    cycles = cell.index[1:-1]\n",
    "    \n",
    "    # plot each cycle life curve\n",
    "    ax.scatter(cycles, Qd, s=7, color=colors[i])\n",
    "    ax.set_xlabel('cycle number')\n",
    "    ax.set_ylabel('discharge capacity [Ah]')\n",
    "    ax.set_xlim(0,1000)\n",
    "    ax.set_ylim(0.89,1.1)\n",
    "    \n",
    "    #for use in histogram further down\n",
    "    Qd_ratios[i] = float(cell['discharge_capacity'][99]/cell['discharge_capacity'][1])\n",
    "    \n",
    "    i += 1\n"
   ]
  },
  {
   "cell_type": "markdown",
   "metadata": {},
   "source": [
    "## Detailed view of first 100 cycles"
   ]
  },
  {
   "cell_type": "code",
   "execution_count": 25,
   "metadata": {},
   "outputs": [
    {
     "data": {
      "image/png": "[encoded data removed]",
      "text/plain": [
       "<Figure size 576x360 with 1 Axes>"
      ]
     },
     "metadata": {
      "needs_background": "light"
     },
     "output_type": "display_data"
    }
   ],
   "source": [
    "fig, ax = plt.subplots(figsize=(8,5))\n",
    "i = 0\n",
    "for cell in sorted_summaries:\n",
    "    Qd100 = cell['discharge_capacity'][1:99]\n",
    "    cycles = cell.index[1:99]\n",
    "    ax.scatter(cycles, Qd100, s=5, color=colors[i])\n",
    "    ax.set_xlabel('cycle number')\n",
    "    ax.set_ylabel('discharge capacity [Ah]')\n",
    "    ax.set_xlim(0,100)\n",
    "    ax.set_ylim(1,1.1)\n",
    "    \n",
    "    i += 1"
   ]
  },
  {
   "cell_type": "markdown",
   "metadata": {},
   "source": [
    "## Histogram of capacity ratios between cycle 100 and 2"
   ]
  },
  {
   "cell_type": "code",
   "execution_count": 26,
   "metadata": {},
   "outputs": [
    {
     "data": {
      "text/plain": [
       "Text(0, 0.5, 'Count')"
      ]
     },
     "execution_count": 26,
     "metadata": {},
     "output_type": "execute_result"
    },
    {
     "data": {
      "image/png": "[encoded data removed]",
      "text/plain": [
       "<Figure size 288x432 with 1 Axes>"
      ]
     },
     "metadata": {
      "needs_background": "light"
     },
     "output_type": "display_data"
    }
   ],
   "source": [
    "fig, ax = plt.subplots(figsize=(4,6))\n",
    "ax.hist(Qd_ratios, range=(0.96,1.02), color='lightgrey', edgecolor='black')\n",
    "ax.set_xticks([0.96, 0.98, 1.00, 1.02])\n",
    "ax.set_xlabel('Capacity ratio, cycles 100:2')\n",
    "ax.set_ylabel('Count', rotation=('vertical'))"
   ]
  },
  {
   "cell_type": "markdown",
   "metadata": {},
   "source": [
    "## Cycle life as function of discharge capacity at cycle 2, 100 and slope of 95-100"
   ]
  },
  {
   "cell_type": "code",
   "execution_count": 29,
   "metadata": {},
   "outputs": [
    {
     "data": {
      "image/png": "[encoded data removed]",
      "text/plain": [
       "<Figure size 1008x288 with 3 Axes>"
      ]
     },
     "metadata": {
      "needs_background": "light"
     },
     "output_type": "display_data"
    }
   ],
   "source": [
    "fig, ax = plt.subplots(ncols=3, figsize=(14,4))\n",
    "\n",
    "Qd_cycle2 = []\n",
    "Qd_cycle100 = []\n",
    "Qd_cycle_95_100 = []\n",
    "cycle_lives = []\n",
    "\n",
    "for cell in df_summaries:\n",
    "    cycle_lives.append(cell.index[-1])\n",
    "    \n",
    "    Qd_cycle2.append(float(cell['discharge_capacity'][1]))\n",
    "    Qd_cycle100.append(float(cell['discharge_capacity'][99]))\n",
    "    Qd_cycle_95_100.append(float(1000*(cell['discharge_capacity'][99] - cell['discharge_capacity'][94])/5))\n",
    "\n",
    "    \n",
    "# Correlation coefficients\n",
    "corrcoef2 = np.corrcoef(cycle_lives, Qd_cycle2)\n",
    "corrcoef100 = np.corrcoef(cycle_lives, Qd_cycle100)\n",
    "corrcoef_95_100 = np.corrcoef(cycle_lives, Qd_cycle_95_100)"
   ]
  },
  {
   "cell_type": "code",
   "execution_count": 28,
   "metadata": {},
   "outputs": [
    {
     "name": "stdout",
     "output_type": "stream",
     "text": [
      "The history saving thread hit an unexpected error (OperationalError('unable to open database file')).History will not be written to the database.\n"
     ]
    },
    {
     "data": {
      "text/plain": [
       "<Figure size 432x288 with 0 Axes>"
      ]
     },
     "metadata": {},
     "output_type": "display_data"
    }
   ],
   "source": [
    "# Scatter plots\n",
    "ax[0].scatter(Qd_cycle2, cycle_lives, c=cycle_lives, cmap='RdBu')\n",
    "ax[0].set_xlabel('Discharge capacity at cycle 2 (Ah)')\n",
    "ax[0].set_ylabel('Cycle life', rotation='vertical')\n",
    "ax[0].text(0.98, 1200, f\"\\u03C1 =  {corrcoef2[1,0]:.2f}\")\n",
    "\n",
    "ax[1].scatter(Qd_cycle100, cycle_lives, c=cycle_lives, cmap='RdBu')\n",
    "ax[1].set_xlabel('Discharge capacity at cycle 100 (Ah)')\n",
    "ax[1].set_ylabel('Cycle life', rotation='vertical')\n",
    "ax[1].text(0.95, 1200, f\"\\u03C1 =  {corrcoef100[1,0]:.2f}\")\n",
    "\n",
    "ax[2].scatter(Qd_cycle_95_100, cycle_lives, c=cycle_lives, cmap='RdBu')\n",
    "ax[2].set_xlabel('Slope of discharge capacity cycles 95–100 (mAh per cycle)')\n",
    "ax[2].set_ylabel('Cycle life', rotation='vertical')\n",
    "ax[2].text(-0.28, 1200, f\"\\u03C1 =  {corrcoef_95_100[1,0]:.2f}\")\n",
    "\n",
    "plt.subplots_adjust(wspace=0.7)"
   ]
  },
  {
   "cell_type": "markdown",
   "metadata": {},
   "source": [
    "## Features based on discharge voltage curves from the first 100 cycles\n",
    "### 1) Qd curves for 100th and 10th cycle for one cell\n",
    "### 2) Qd difference between cycle 100 and 10 for all cells\n",
    "### 3) Cycle life as function of variance of Qd_{100-10} for all cells"
   ]
  },
  {
   "cell_type": "code",
   "execution_count": 22,
   "metadata": {},
   "outputs": [
    {
     "data": {
      "image/png": "[encoded data removed]",
      "text/plain": [
       "<Figure size 864x288 with 4 Axes>"
      ]
     },
     "metadata": {
      "needs_background": "light"
     },
     "output_type": "display_data"
    }
   ],
   "source": [
    "# One cell\n",
    "\n",
    "# First pick a representative cell\n",
    "rand_cell = df_cycles[random.randrange(len(df_cycles))]\n",
    "\n",
    "# Discharge capacity and voltage during discharge\n",
    "Qd_one = rand_cell.loc[rand_cell['step_type'] == 'discharge' , 'discharge_capacity']\n",
    "voltage_one = rand_cell.loc[rand_cell['step_type'] == 'discharge' , 'voltage']\n",
    "\n",
    "# 10th cycle\n",
    "Qd10_one = Qd_one[9]\n",
    "V10_one = voltage_one[9]\n",
    "\n",
    "# 100th cycle\n",
    "Qd100_one = Qd_one[99]\n",
    "V100_one = voltage_one[99]\n",
    "\n",
    "# Figure for plot\n",
    "fig, ax = plt.subplots(ncols=3, figsize=(12,4))\n",
    "\n",
    "# Plot for 100th and 10th cycle\n",
    "ax[0].plot(Qd10_one, V10_one, label='cycle 10')\n",
    "ax[0].plot(Qd100_one ,V100_one, label='cycle 100')\n",
    "ax[0].set_xlabel('Discharge capacity (Ah)')\n",
    "ax[0].set_ylabel('Voltage (V)', rotation='vertical')\n",
    "ax[0].legend()\n",
    "\n",
    "# All cells\n",
    "\n",
    "# Sort cells by cycle life\n",
    "sorted_cycles = sorted(df_cycles,key=lambda x:x.index[-1])\n",
    "cycle_lives = []\n",
    "Qd100_10 = []\n",
    "V10 = []\n",
    "var100_10 = []\n",
    "counter = 0\n",
    "\n",
    "for cell in sorted_cycles:\n",
    "    cycle_lives.append(float(cell.index[-1]))\n",
    "    # Qd and voltage for each cell\n",
    "    Qd = cell.loc[cell['step_type'] == 'discharge' , 'discharge_capacity'] \n",
    "    voltage = cell.loc[cell['step_type'] == 'discharge' , 'voltage'] \n",
    "    \n",
    "    # interpolated voltage range for a cycle (chose cycle 10, same for all)\n",
    "    V10 = voltage[9]\n",
    "    \n",
    "    # Qd100-10 and variance\n",
    "    Qd100_10 = Qd[99].values - Qd[9].values\n",
    "    var100_10.append(float(statistics.variance(Qd100_10)))\n",
    "    \n",
    "\n",
    "    # Qd100-10 as function of voltage\n",
    "    ax[1].scatter(Qd100_10, V10, s=0.1, color=colors[counter])\n",
    "    ax[1].set_xlim(-0.12,0.02)\n",
    "    ax[1].set_xticks([-0.1, 0])\n",
    "    ax[1].set_xlabel('$Q_{100} - Q_{10}$ (Ah)')\n",
    "    ax[1].set_ylabel('Voltage (V)', rotation='vertical')\n",
    "    \n",
    "    counter += 1\n",
    "\n",
    "# Correlation coefficient\n",
    "corr_variance = np.corrcoef(cycle_lives, var100_10)\n",
    "\n",
    "# var(Qd100-10) as function of cycle life    \n",
    "im = ax[2].scatter(var100_10, cycle_lives, c=cycle_lives, cmap='RdBu')\n",
    "fig.colorbar(im, ax=ax[2])\n",
    "ax[2].set_xscale('log')\n",
    "ax[2].set_yscale('log')\n",
    "ax[2].set_xlabel('var($\\u0394Q_{100-10}(V)$)')\n",
    "ax[2].set_ylabel('Cycle life')\n",
    "ax[2].text(0.00005, 300, f\"\\u03C1 =  {corr_variance[1,0]:.2f}\")\n",
    "    \n",
    "plt.subplots_adjust(wspace=0.6)\n",
    "    \n",
    "# voltage note: Paper says voltage range 3.6 V - 2.0 V, but data shows 3.6 V - 2.8 V."
   ]
  },
  {
   "cell_type": "code",
   "execution_count": 25,
   "metadata": {},
   "outputs": [
    {
     "data": {
      "text/plain": [
       "<AxesSubplot:xlabel='cycle_index'>"
      ]
     },
     "execution_count": 25,
     "metadata": {},
     "output_type": "execute_result"
    },
    {
     "data": {
      "image/png": "[encoded data removed]",
      "text/plain": [
       "<Figure size 432x288 with 1 Axes>"
      ]
     },
     "metadata": {
      "needs_background": "light"
     },
     "output_type": "display_data"
    }
   ],
   "source": [
    "Qdd = df_cycles[8]['voltage'][0:5]\n",
    "Qdd.plot(y='voltage')"
   ]
  },
  {
   "cell_type": "markdown",
   "metadata": {},
   "source": [
    "# Modelling with var(Q100-Q10) if there is time"
   ]
  },
  {
   "cell_type": "code",
   "execution_count": null,
   "metadata": {},
   "outputs": [],
   "source": [
    "data = pd.DataFrame()\n",
    "data['Variance'] = var100_10\n",
    "data['Cycle_lives'] = cycle_lives\n",
    "data.plot(x='Variance', y='Cycle_lives')"
   ]
  },
  {
   "cell_type": "code",
   "execution_count": null,
   "metadata": {},
   "outputs": [],
   "source": []
  }
 ],
 "metadata": {
  "kernelspec": {
   "display_name": "Python 3",
   "language": "python",
   "name": "python3"
  },
  "language_info": {
   "codemirror_mode": {
    "name": "ipython",
    "version": 3
   },
   "file_extension": ".py",
   "mimetype": "text/x-python",
   "name": "python",
   "nbconvert_exporter": "python",
   "pygments_lexer": "ipython3",
   "version": "3.8.5"
  }
 },
 "nbformat": 4,
 "nbformat_minor": 5
}
